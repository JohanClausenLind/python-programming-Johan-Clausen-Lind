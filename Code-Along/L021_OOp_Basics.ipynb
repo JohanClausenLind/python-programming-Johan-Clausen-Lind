{
 "cells": [
  {
   "cell_type": "code",
   "execution_count": 50,
   "metadata": {},
   "outputs": [],
   "source": [
    "class cat:\n",
    "    def __init__(self, name, age):\n",
    "        self.name = name\n",
    "        self.age = age\n",
    "\n",
    "    def greet(self = None):\n",
    "            print(f'Hello, im {self.name}, and im {self.age} years old')"
   ]
  },
  {
   "cell_type": "code",
   "execution_count": 51,
   "metadata": {},
   "outputs": [
    {
     "name": "stdout",
     "output_type": "stream",
     "text": [
      "Hello, im Misse, and im 3 years old\n",
      "Hello, im kisse, and im 2 years old\n"
     ]
    }
   ],
   "source": [
    "my_other_cat = cat(\"kisse\", 2)\n",
    "my_cat = cat(\"Misse\", 3)\n",
    "\n",
    "my_cat.greet()\n",
    "my_other_cat.greet()\n"
   ]
  },
  {
   "cell_type": "code",
   "execution_count": 49,
   "metadata": {},
   "outputs": [
    {
     "name": "stdout",
     "output_type": "stream",
     "text": [
      "hello fredrik\n",
      "hello None\n"
     ]
    }
   ],
   "source": [
    "def greet(name = None):\n",
    "    if name is None:\n",
    "        print(f'hello {name}')\n",
    "\n",
    "greet(\"fredrik\")\n",
    "greet()"
   ]
  },
  {
   "cell_type": "code",
   "execution_count": 82,
   "metadata": {},
   "outputs": [],
   "source": [
    "class definers:\n",
    "    def __init__(v, age, gender, height):\n",
    "        v.age = age\n",
    "        v.gender = gender\n",
    "        v.height = height\n",
    "\n",
    "    def greeet(v, other = None):\n",
    "        if other is None:          \n",
    "            print(f'Hello my name is my age gender and height is {v.age}, {v.gender} and {v.height} cm tall')\n",
    "\n",
    "        else:\n",
    "            print(f'Hello my age is {other.age} and mine is {v.age}')\n"
   ]
  },
  {
   "cell_type": "code",
   "execution_count": 83,
   "metadata": {},
   "outputs": [
    {
     "name": "stdout",
     "output_type": "stream",
     "text": [
      "Hello my name is my age gender and height is 23, male and 193 cm tall\n",
      "Hello my age is 21 and mine is 23\n"
     ]
    }
   ],
   "source": [
    "person_1 = definers(23, \"male\", 193)\n",
    "person_2 = definers(21, \"male\", 175)\n",
    "\n",
    "person_1.greeet()\n",
    "person_1.greeet(person_2)"
   ]
  },
  {
   "cell_type": "code",
   "execution_count": 106,
   "metadata": {},
   "outputs": [],
   "source": [
    "class learningpython:\n",
    "    def __init__(self,you):\n",
    "        self.you = you\n",
    "        if you > 10:\n",
    "            print(f'hey is and you is {you} together tehy are over 10')\n",
    "        else:\n",
    "            print (f'hey and you are lower than 10 combined')"
   ]
  },
  {
   "cell_type": "code",
   "execution_count": 107,
   "metadata": {},
   "outputs": [
    {
     "name": "stdout",
     "output_type": "stream",
     "text": [
      "hey is and you is 255 together tehy are over 10\n"
     ]
    }
   ],
   "source": [
    "numbers = learningpython(255)\n"
   ]
  },
  {
   "cell_type": "code",
   "execution_count": 116,
   "metadata": {},
   "outputs": [],
   "source": [
    "class Employe:\n",
    "    def __init__(self, salary, name):\n",
    "        self.name = name\n",
    "        if salary > 0:\n",
    "            self.salary = salary\n",
    "        else :\n",
    "            self.salary = 0"
   ]
  },
  {
   "cell_type": "code",
   "execution_count": 117,
   "metadata": {},
   "outputs": [
    {
     "data": {
      "text/plain": [
       "0"
      ]
     },
     "execution_count": 117,
     "metadata": {},
     "output_type": "execute_result"
    }
   ],
   "source": [
    "employe_1 = Employe( -22, \"johan\")\n",
    "\n",
    "employe_1.salary"
   ]
  }
 ],
 "metadata": {
  "kernelspec": {
   "display_name": "Python 3",
   "language": "python",
   "name": "python3"
  },
  "language_info": {
   "codemirror_mode": {
    "name": "ipython",
    "version": 3
   },
   "file_extension": ".py",
   "mimetype": "text/x-python",
   "name": "python",
   "nbconvert_exporter": "python",
   "pygments_lexer": "ipython3",
   "version": "3.11.6"
  }
 },
 "nbformat": 4,
 "nbformat_minor": 2
}
