{
 "cells": [
  {
   "cell_type": "code",
   "execution_count": null,
   "metadata": {},
   "outputs": [],
   "source": [
    "while True:\n",
    "    number = input(\"num\")\n",
    "    try:\n",
    "        number = int(number)\n",
    "        if number > 0:\n",
    "            print(f'{number} is positive')\n",
    "        elif number < 0:\n",
    "            print(f'{number} is negative')\n",
    "        else:\n",
    "            print('number is 0')\n",
    "        break\n",
    "    except ValueError:\n",
    "    \n",
    "        print(\"please input valid integer\")\n",
    "\n"
   ]
  },
  {
   "cell_type": "code",
   "execution_count": null,
   "metadata": {},
   "outputs": [],
   "source": [
    "while True:\n",
    "\n",
    "    try:\n",
    "        number_1 = input(\"input number\")\n",
    "        number_2 = input(\"input number\")\n",
    "        number_1 = int(number_1)\n",
    "        number_2 = int(number_2)\n",
    "\n",
    "        if number_1 > number_2:\n",
    "            print(f'{number_2} is the smallest')\n",
    "        elif number_1 < number_2:\n",
    "            print(f'{number_1} is the smallest')\n",
    "        else:\n",
    "            print(\"they are equal\")\n",
    "        break\n",
    "    except ValueError:\n",
    "        print(\"print it with number instead silly goose\")\n",
    "\n",
    "    "
   ]
  },
  {
   "cell_type": "code",
   "execution_count": null,
   "metadata": {},
   "outputs": [],
   "source": [
    "while True:\n",
    "    try:\n",
    "        angle_1=input('angle')\n",
    "        angle_2=input('angle')\n",
    "        angle_3=input('angle')\n",
    "        angle_1= int(angle_1)\n",
    "        angle_2= int(angle_2)\n",
    "        angle_3= int(angle_3)\n",
    "\n",
    "        if angle_1 + angle_2 + angle_3 == 180:\n",
    "            print('its a trinagle!')\n",
    "            if angle_1 == 90 or angle_2 == 90 or angle_3 == 90:\n",
    "                print('den har en rät vinkel')\n",
    "        else:\n",
    "            print('its not a triangle')\n",
    "        break\n",
    "    except ValueError:\n",
    "        print('enter a number')\n",
    "\n",
    "\n"
   ]
  },
  {
   "cell_type": "code",
   "execution_count": 9,
   "metadata": {},
   "outputs": [
    {
     "name": "stdout",
     "output_type": "stream",
     "text": [
      "take half to one pill\n"
     ]
    }
   ],
   "source": [
    "while True:\n",
    "    try:\n",
    "        age = int(input('input weight'))\n",
    "        weight = int(input('age'))\n",
    "\n",
    "        if 15 < weight < 25:\n",
    "            print(\"take half a pill\")\n",
    "        \n",
    "        if 26 < weight < 40:\n",
    "            print(\"take half to one pill\")\n",
    "        if weight > 40:\n",
    "            if age > 12:\n",
    "                print(\"take 1-2 pills\")\n",
    "        break\n",
    "    except ValueError:\n",
    "        print('enter number')\n",
    "\n"
   ]
  },
  {
   "cell_type": "code",
   "execution_count": 19,
   "metadata": {},
   "outputs": [
    {
     "name": "stdout",
     "output_type": "stream",
     "text": [
      "number is odd\n",
      "you can divide it by 5\n"
     ]
    }
   ],
   "source": [
    "while True:\n",
    "    try:\n",
    "        nummer = int(input(\"number\"))\n",
    "        if nummer % 2 != 0:\n",
    "            print(\"number is odd\")\n",
    "        else:\n",
    "            print(\"number is even\")\n",
    "        if nummer % 5 == 0:\n",
    "            print(\"you can divide it by 5\")\n",
    "        else:\n",
    "            print (\" you cant devide it\")\n",
    "        if nummer % 2 != 0 and nummer / 5 == 0:\n",
    "            print('is divisble by 5 and odd')\n",
    "        break\n",
    "    except ValueError:\n",
    "        print('enter number')"
   ]
  },
  {
   "cell_type": "code",
   "execution_count": 20,
   "metadata": {},
   "outputs": [
    {
     "name": "stdout",
     "output_type": "stream",
     "text": [
      "sry bro\n"
     ]
    }
   ],
   "source": [
    "while True:\n",
    "    try:\n",
    "        weight1 = int(input(\"weight\"))\n",
    "        length =int(input(\"example 55\"))\n",
    "        width =int(input(\"example 40\"))\n",
    "        height =int(input(\"example 23\"))\n",
    "\n",
    "        if 0 <weight < 8 and 0< length < 55 and 0< width < 40 and 0 < height < 23:\n",
    "            print(\"welcome aboard\")\n",
    "        else:\n",
    "            print(\"sry bro\")\n",
    "        break\n",
    "    except ValueError:\n",
    "        print(\"na bro\")"
   ]
  }
 ],
 "metadata": {
  "kernelspec": {
   "display_name": "Min_Labb2_kernel",
   "language": "python",
   "name": "labb2_kernel"
  },
  "language_info": {
   "codemirror_mode": {
    "name": "ipython",
    "version": 3
   },
   "file_extension": ".py",
   "mimetype": "text/x-python",
   "name": "python",
   "nbconvert_exporter": "python",
   "pygments_lexer": "ipython3",
   "version": "3.11.6"
  }
 },
 "nbformat": 4,
 "nbformat_minor": 2
}
