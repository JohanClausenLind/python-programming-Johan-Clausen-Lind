{
 "cells": [
  {
   "cell_type": "code",
   "execution_count": null,
   "metadata": {},
   "outputs": [],
   "source": [
    "\n",
    "i = -10\n",
    "while i < 11:\n",
    "    print(i)\n",
    "    i += 1"
   ]
  },
  {
   "cell_type": "code",
   "execution_count": null,
   "metadata": {},
   "outputs": [],
   "source": [
    "sum3 = 0\n",
    "sum1 = 1\n",
    "while sum1 < 101:\n",
    "    sum1 +=1\n",
    "    sum3 += sum1\n",
    "print (sum3)\n",
    "sum4 = 0\n",
    "sum2 = -1\n",
    "while sum2 < 99:\n",
    "    sum2 +=2\n",
    "    sum4 += sum2\n",
    "print(sum4)"
   ]
  },
  {
   "cell_type": "code",
   "execution_count": null,
   "metadata": {},
   "outputs": [],
   "source": [
    "import random \n",
    "\n",
    "random_int=random.randint(1, 100)\n",
    "\n",
    "guess = int(input('input guess'))\n",
    "\n",
    "if guess != random_int:\n",
    "    print('it was not right')\n",
    "\n",
    "\n",
    "\n",
    "radie = int\n"
   ]
  },
  {
   "cell_type": "code",
   "execution_count": null,
   "metadata": {},
   "outputs": [],
   "source": [
    "while True:\n",
    "    try:\n",
    "        radie = int(input('Ange radien: '))\n",
    "        höjd = int(input('Ange höjden: '))\n",
    "\n",
    "        if radie <= 0 or höjd <= 0:\n",
    "            print(\"Fel: Både radien och höjden måste vara större än noll. Försök igen.\")\n",
    "            continue  # Startar om loopen om värdena är ogiltiga\n",
    "        \n",
    "        volym = 3.14 * radie**2 * höjd\n",
    "        print(f\"Volymen är: {volym}\")\n",
    "        break  # Avslutar loopen när ett giltigt resultat har beräknats\n",
    "\n",
    "    except ValueError:\n",
    "        print(\"Fel: Ange bara numeriska värden för radien och höjden. Försök igen.\")\n"
   ]
  },
  {
   "cell_type": "code",
   "execution_count": null,
   "metadata": {},
   "outputs": [],
   "source": [
    "import random\n",
    "\n",
    "storage = []\n",
    "antal_kast = 0\n",
    "\n",
    "while antal_kast < 100000: \n",
    "    kast = random.randint(1, 6)\n",
    "    storage.append(kast)\n",
    "    antal_kast += 1\n",
    "\n",
    "print(storage)\n"
   ]
  },
  {
   "cell_type": "code",
   "execution_count": null,
   "metadata": {},
   "outputs": [],
   "source": [
    "import random\n",
    "random_int1 = random.randint(1, 100)\n",
    "while True:\n",
    "    try:\n",
    "        user_input = int(input(\"your guess\"))\n",
    "\n",
    "        if random_int1 == user_input:\n",
    "            print(f'Your guess of {random_int1} is correct!')\n",
    "            break\n",
    "        else:\n",
    "            print(f'Guess again! {random_int1}')\n",
    "            continue\n",
    "    \n",
    "    except ValueError:\n",
    "        print(\"please use an integer\")\n",
    "\n",
    "\n",
    "\n"
   ]
  },
  {
   "cell_type": "code",
   "execution_count": 6,
   "metadata": {},
   "outputs": [],
   "source": [
    "import random\n",
    "def my_function():\n",
    "    upper_guess = 1\n",
    "    lower_guess = 100\n",
    "    guess_count = 0\n",
    "\n",
    "    while upper_guess >= lower_guess:\n",
    "        guess = (upper_guess + lower_guess) // 2\n",
    "        try:\n",
    "            if guess == random_int:\n",
    "                print(\"right guess\")\n",
    "\n",
    "            elif guess > lower_guess:\n",
    "                guess\n",
    "                guess_count += 1\n",
    "            else:\n",
    "                guess\n",
    "                guess_count =+1\n",
    "        except ValueError:\n",
    "            print(\"please write int\")\n",
    "\n",
    "my_function()\n",
    "\n"
   ]
  }
 ],
 "metadata": {
  "kernelspec": {
   "display_name": "Min_Labb2_kernel",
   "language": "python",
   "name": "labb2_kernel"
  },
  "language_info": {
   "codemirror_mode": {
    "name": "ipython",
    "version": 3
   },
   "file_extension": ".py",
   "mimetype": "text/x-python",
   "name": "python",
   "nbconvert_exporter": "python",
   "pygments_lexer": "ipython3",
   "version": "3.11.6"
  }
 },
 "nbformat": 4,
 "nbformat_minor": 2
}
