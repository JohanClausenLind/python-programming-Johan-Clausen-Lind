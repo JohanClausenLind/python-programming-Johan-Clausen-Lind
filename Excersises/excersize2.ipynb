{
 "cells": [
  {
   "cell_type": "code",
   "execution_count": null,
   "metadata": {},
   "outputs": [],
   "source": [
    "\n",
    "i = -10\n",
    "while i < 11:\n",
    "    print(i)\n",
    "    i += 1"
   ]
  },
  {
   "cell_type": "code",
   "execution_count": null,
   "metadata": {},
   "outputs": [],
   "source": [
    "sum3 = 0\n",
    "sum1 = 1\n",
    "while sum1 < 101:\n",
    "    sum1 +=1\n",
    "    sum3 += sum1\n",
    "print (sum3)\n",
    "sum4 = 0\n",
    "sum2 = -1\n",
    "while sum2 < 99:\n",
    "    sum2 +=2\n",
    "    sum4 += sum2\n",
    "print(sum4)"
   ]
  },
  {
   "cell_type": "code",
   "execution_count": null,
   "metadata": {},
   "outputs": [],
   "source": [
    "import random \n",
    "\n",
    "random_int=random.randint(1, 100)\n",
    "\n",
    "guess = int(input('input guess'))\n",
    "\n",
    "if guess != random_int:\n",
    "    print('it was not right')\n",
    "\n",
    "\n",
    "\n",
    "radie = int\n"
   ]
  },
  {
   "cell_type": "code",
   "execution_count": null,
   "metadata": {},
   "outputs": [],
   "source": [
    "while True:\n",
    "    try:\n",
    "        radie = int(input('Ange radien: '))\n",
    "        höjd = int(input('Ange höjden: '))\n",
    "\n",
    "        if radie <= 0 or höjd <= 0:\n",
    "            print(\"Fel: Både radien och höjden måste vara större än noll. Försök igen.\")\n",
    "            continue  # Startar om loopen om värdena är ogiltiga\n",
    "        \n",
    "        volym = 3.14 * radie**2 * höjd\n",
    "        print(f\"Volymen är: {volym}\")\n",
    "        break  # Avslutar loopen när ett giltigt resultat har beräknats\n",
    "\n",
    "    except ValueError:\n",
    "        print(\"Fel: Ange bara numeriska värden för radien och höjden. Försök igen.\")\n"
   ]
  },
  {
   "cell_type": "code",
   "execution_count": null,
   "metadata": {},
   "outputs": [],
   "source": [
    "import random\n",
    "\n",
    "storage = []\n",
    "antal_kast = 0\n",
    "\n",
    "while antal_kast < 100000:  # Minskat för teständamål\n",
    "    kast = random.randint(1, 6)\n",
    "    storage.append(kast)\n",
    "    antal_kast += 1\n",
    "\n",
    "print(storage)\n"
   ]
  },
  {
   "cell_type": "code",
   "execution_count": null,
   "metadata": {},
   "outputs": [],
   "source": [
    "\n",
    "def skriv_ut_mönster(n):\n",
    "    for rad in range(n):\n",
    "        for kolumn in range(n):\n",
    "            # Om summan av rad och kolumn är jämn, skriv ut \"x\", annars \"o\"\n",
    "            if (rad + kolumn) % 2 == 0:\n",
    "                print(\"x\", end=\" \")\n",
    "            else:\n",
    "                print(\"o\", end=\" \")\n",
    "        print()  # Ny rad efter varje rad i mönstret\n",
    "\n",
    "# Testa funktionen med n = 5\n",
    "skriv_ut_mönster(5)\n",
    "\n"
   ]
  },
  {
   "cell_type": "code",
   "execution_count": null,
   "metadata": {},
   "outputs": [],
   "source": [
    "def min_funktion(n):\n",
    "    for rad in range(n):\n",
    "        for column in range(n):\n",
    "            if (rad + column) % 2 == 0:\n",
    "                print(\"x\", end=\" \") \n",
    "            else:\n",
    "                print(\"o\", end=\" \")\n",
    "        print()\n",
    "min_funktion(9)"
   ]
  },
  {
   "cell_type": "code",
   "execution_count": null,
   "metadata": {},
   "outputs": [],
   "source": [
    "def mönster(n):\n",
    "    for rad in range(n-2):\n",
    "        for column in range(n):\n",
    "            if rad == column:\n",
    "                print(\"x\", end=\" \")\n",
    "            else:\n",
    "                print(\"o\", end=\" \")\n",
    "        print()\n",
    "mönster(5)"
   ]
  },
  {
   "cell_type": "code",
   "execution_count": 88,
   "metadata": {},
   "outputs": [
    {
     "name": "stdout",
     "output_type": "stream",
     "text": [
      "x x x x x x \n",
      "x o o o o x \n",
      "x x o o o x \n",
      "x x x o o x \n",
      "x x x x o x \n",
      "x x x x x x \n"
     ]
    }
   ],
   "source": [
    "def pattern(n):\n",
    "    for row in range(n):\n",
    "        for column in range(n):\n",
    "            if column < row:\n",
    "                print(\"x\", end=\" \")\n",
    "            elif column == (n-1):\n",
    "                print(\"x\", end=\" \")\n",
    "            elif row == (0):\n",
    "                print(\"x\", end=\" \")\n",
    "            else:\n",
    "                print(\"o\", end=\" \")\n",
    "        print()\n",
    "pattern(6)"
   ]
  }
 ],
 "metadata": {
  "kernelspec": {
   "display_name": "Min_Labb2_kernel",
   "language": "python",
   "name": "labb2_kernel"
  },
  "language_info": {
   "codemirror_mode": {
    "name": "ipython",
    "version": 3
   },
   "file_extension": ".py",
   "mimetype": "text/x-python",
   "name": "python",
   "nbconvert_exporter": "python",
   "pygments_lexer": "ipython3",
   "version": "3.11.6"
  }
 },
 "nbformat": 4,
 "nbformat_minor": 2
}
