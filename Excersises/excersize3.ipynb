{
 "cells": [
  {
   "cell_type": "code",
   "execution_count": null,
   "metadata": {},
   "outputs": [],
   "source": [
    "def represent_summa(summa):\n",
    "    valörer = [\n",
    "        (1000, 'Tusenlapp'),\n",
    "        (200, 'Tvåhundralapp'),\n",
    "        (100, 'Hundralapp'),\n",
    "        (50, 'Femtiolapp'),\n",
    "        (20, 'Tjugolapp'),\n",
    "        (10, 'Tiokrona'),\n",
    "        (5, 'Femkrona'),\n",
    "        (1, 'Enkrona')\n",
    "    ]\n",
    "\n",
    "    for valör in valörer:\n",
    "        antal, namn = summa // valör[0], valör[1]\n",
    "        summa %= valör[0]\n",
    "        if antal > 0:\n",
    "            print(f'{namn}: {antal}')\n",
    "\n",
    "# Testa funktionen med summan 3214\n",
    "represent_summa(555)\n"
   ]
  },
  {
   "cell_type": "code",
   "execution_count": null,
   "metadata": {},
   "outputs": [],
   "source": [
    "foods = {\"grönsak\": \"gurka\", \"Frukt\" : \"granatäpple\", \"bär\" : \"hallon\"}\n",
    "fruits = foods[\"Frukt\"]\n",
    "print(fruits[-2::-3])"
   ]
  },
  {
   "cell_type": "code",
   "execution_count": null,
   "metadata": {},
   "outputs": [],
   "source": [
    "def radie(r):\n",
    "    while True: \n",
    "        try:\n",
    "            if r < 0:\n",
    "                print(\"bigger pls\")\n",
    "                \n",
    "            klot_v=(4*3.14*r**3)/3\n",
    "            return klot_v\n",
    "        except ValueError:\n",
    "            print(\"num pls\")\n",
    "radie(-1)\n",
    "\n",
    "                    "
   ]
  },
  {
   "cell_type": "code",
   "execution_count": null,
   "metadata": {},
   "outputs": [],
   "source": [
    "def mönster(n):\n",
    "    for row in range(n):\n",
    "        for column in range(n):\n",
    "            if row==0 or column ==(n-1):\n",
    "                print(\"#\", end=\" \")\n",
    "            elif row > column:\n",
    "                print(\"#\", end=\" \")\n",
    "            else:\n",
    "                print(\"o\", end=\" \")\n",
    "        print()\n",
    "mönster(6)"
   ]
  },
  {
   "cell_type": "code",
   "execution_count": null,
   "metadata": {},
   "outputs": [],
   "source": [
    "class person:\n",
    "    def hej():\n",
    "        print(\"person säger hej\")\n",
    "class student(person):\n",
    "    def hej():\n",
    "        print(\"student säger hej\")\n",
    "class viking(person):\n",
    "    def hoj():\n",
    "        print(\"viking säger hej\")\n",
    "\n",
    "for person in (person, student, viking):\n",
    "    person.hej()"
   ]
  },
  {
   "cell_type": "code",
   "execution_count": null,
   "metadata": {},
   "outputs": [],
   "source": [
    "def tal_till_text(num):\n",
    "    if not 0 <= num <= 9999:\n",
    "        return \"Numret är utanför det tillåtna intervallet.\"\n",
    "\n",
    "    grundtal = [\"noll\", \"ett\", \"två\", \"tre\", \"fyra\", \"fem\", \"sex\", \"sju\", \"åtta\", \"nio\", \"tio\", \n",
    "                \"elva\", \"tolv\", \"tretton\", \"fjorton\", \"femton\", \"sexton\", \"sjutton\", \"arton\", \"nitton\"]\n",
    "    tiotal = [\"\", \"\", \"tjugo\", \"trettio\", \"fyrtio\", \"femtio\", \"sextio\", \"sjuttio\", \"åttio\", \"nittio\"]\n",
    "    \n",
    "    def hundra(num):\n",
    "        if num == 0:\n",
    "            return \"\"\n",
    "        elif num < 20:\n",
    "            return grundtal[num]\n",
    "        else:\n",
    "            return tiotal[num // 10] + (\"\" if num % 10 == 0 else grundtal[num % 10])\n",
    "\n",
    "    delar = []\n",
    "    if num == 0:\n",
    "        return grundtal[0]\n",
    "    \n",
    "    if num >= 1000:\n",
    "        delar.append(grundtal[num // 1000] + \"tusen\")\n",
    "        num %= 1000\n",
    "\n",
    "    if num >= 100:\n",
    "        delar.append(grundtal[num // 100] + \"hundra\")\n",
    "        num %= 100\n",
    "\n",
    "    if num > 0:\n",
    "        delar.append(hundra(num))\n",
    "    \n",
    "    return \"\".join(delar)\n",
    "\n",
    "# Testa funktionen med några exempel\n",
    "print(tal_till_text(0))     # noll\n",
    "print(tal_till_text(58))    # femtioåtta\n",
    "print(tal_till_text(211))   # tvåhundraelva\n",
    "print(tal_till_text(5301))  # femtusentrehundraett\n",
    "print(tal_till_text(9999))  # niotusenniohundranittionio\n"
   ]
  },
  {
   "cell_type": "code",
   "execution_count": null,
   "metadata": {},
   "outputs": [],
   "source": [
    "def represent_summa(summa):\n",
    "    valörer = [\n",
    "        (1000, 'Tusenlapp'),\n",
    "        (200, 'Tvåhundralapp'),\n",
    "        (100, 'Hundralapp'),\n",
    "        (50, 'Femtiolapp'),\n",
    "        (20, 'Tjugolapp'),\n",
    "        (10, 'Tiokrona'),\n",
    "        (5, 'Femkrona'),\n",
    "        (1, 'Enkrona')\n",
    "    ]\n",
    "\n",
    "    for valör in valörer:\n",
    "        antal, namn = summa // valör[0], valör[1]\n",
    "        summa %= valör[0]\n",
    "        if antal > 0:\n",
    "            print(f'{namn}: {antal}')\n",
    "\n",
    "# Testa funktionen med summan 3214\n",
    "represent_summa(3214)\n"
   ]
  },
  {
   "cell_type": "code",
   "execution_count": null,
   "metadata": {},
   "outputs": [],
   "source": [
    "def sek_to_usd(dollar):\n",
    "    if 0 <= dollar <= 100:\n",
    "        print(\"talet får inte vara mer än 100\")\n",
    "    SEK = dollar * 9\n",
    "\n",
    "    valörer = [(500, \"femhundra\"),\n",
    "            (200, \"tvåhundra\"),\n",
    "            (100, \"hundra\"),\n",
    "            (50, \"femtio\"),\n",
    "            (20, \"tjugio\"),\n",
    "            (10, \"tio\"),\n",
    "            (5, \"fem\"),\n",
    "            (1, \"ett\")]\n",
    "\n",
    "    for belopp, text in valörer:\n",
    "        print(belopp, text)\n",
    "sek_to_usd(4)\n"
   ]
  },
  {
   "cell_type": "code",
   "execution_count": null,
   "metadata": {},
   "outputs": [],
   "source": [
    "def rektangel_a(n):\n",
    "    for i in range(n):\n",
    "        for j in range(n):\n",
    "            if i == j:\n",
    "                print(\"#\", end=\"\")\n",
    "            else:\n",
    "                print(\"-\", end=\"\")\n",
    "        print()\n",
    "rektangel_a(6)"
   ]
  },
  {
   "cell_type": "code",
   "execution_count": null,
   "metadata": {},
   "outputs": [],
   "source": [
    "def rektangel_b(n):\n",
    "    for i in range(n):\n",
    "        for j in range(n):\n",
    "            if j == 0 or j == n-1 or j == i:\n",
    "                print(\"#\", end=\"\")\n",
    "            else:\n",
    "                print(\"-\", end=\"\")\n",
    "        print()\n",
    "rektangel_b(6)"
   ]
  },
  {
   "cell_type": "code",
   "execution_count": null,
   "metadata": {},
   "outputs": [],
   "source": [
    "def rektangel_c(n):\n",
    "    for i in range(n):\n",
    "        for j in range(n):\n",
    "            if i + j == n-1:\n",
    "                print(\"#\", end=\"\")\n",
    "            else:\n",
    "                print(\"-\", end=\"\")\n",
    "        print()\n",
    "rektangel_c(7)"
   ]
  },
  {
   "cell_type": "code",
   "execution_count": null,
   "metadata": {},
   "outputs": [],
   "source": [
    "def rektangel_d(n):\n",
    "    for i in range(n):\n",
    "        for j in range(n):\n",
    "            if j == 1 or j == n-2 or i == n//2:\n",
    "                print(\"#\", end=\"\")\n",
    "            else:\n",
    "                print(\"-\", end=\"\")\n",
    "        print()\n",
    "rektangel_d(6)"
   ]
  },
  {
   "cell_type": "code",
   "execution_count": null,
   "metadata": {},
   "outputs": [],
   "source": [
    "def rektangel_e(n):\n",
    "    for i in range(n):\n",
    "        for j in range(n):\n",
    "            if j == 0 or i == j:\n",
    "                print(\"#\", end=\"\")\n",
    "            else:\n",
    "                print(\"-\", end=\"\")\n",
    "        print()\n",
    "rektangel_e(6)"
   ]
  },
  {
   "cell_type": "code",
   "execution_count": null,
   "metadata": {},
   "outputs": [],
   "source": [
    "def rektangel_f(n):\n",
    "    for i in range(n):\n",
    "        for j in range(n):\n",
    "            if i == j or i + j == n-1:\n",
    "                print(\"#\", end=\"\")\n",
    "            else:\n",
    "                print(\"-\", end=\"\")\n",
    "        print()\n",
    "rektangel_f(6)"
   ]
  },
  {
   "cell_type": "code",
   "execution_count": null,
   "metadata": {},
   "outputs": [],
   "source": [
    "def rektangel_g(n):\n",
    "    for i in range(n):\n",
    "        for j in range(n):\n",
    "            if i < n//2 and j < n//2:\n",
    "                print(\"#\", end=\"\")\n",
    "            else:\n",
    "                print(\"-\", end=\"\")\n",
    "        print()\n",
    "rektangel_g(6)"
   ]
  },
  {
   "cell_type": "code",
   "execution_count": null,
   "metadata": {},
   "outputs": [],
   "source": [
    "def rektangel_h(n):\n",
    "    for i in range(n):\n",
    "        for j in range(n):\n",
    "            if i + j == n-1:\n",
    "                print(\"#\", end=\"\")\n",
    "            else:\n",
    "                print(\"-\", end=\"\")\n",
    "        print()\n",
    "rektangel_h(6)"
   ]
  },
  {
   "cell_type": "code",
   "execution_count": null,
   "metadata": {},
   "outputs": [],
   "source": [
    "def rektangel_i(n):\n",
    "    for i in range(n):\n",
    "        for j in range(n):\n",
    "            if i == (n//2)-1 or i == n//2:\n",
    "                print(\"#\", end=\"\")\n",
    "            else:\n",
    "                print(\"-\", end=\"\")\n",
    "        print()\n",
    "rektangel_i(6)"
   ]
  },
  {
   "cell_type": "code",
   "execution_count": null,
   "metadata": {},
   "outputs": [],
   "source": [
    "def rektangel_j(n):\n",
    "    for i in range(n):\n",
    "        for j in range(n):\n",
    "            if i == j or i + j == n-1 or i == n//2:\n",
    "                print(\"#\", end=\"\")\n",
    "            else:\n",
    "                print(\"-\", end=\"\")\n",
    "        print()\n",
    "rektangel_j(6)"
   ]
  },
  {
   "cell_type": "code",
   "execution_count": null,
   "metadata": {},
   "outputs": [],
   "source": [
    "def vol_cylinder(radie, höjd):\n",
    "\twhile True:\n",
    "\t\ttry:\n",
    "\t\t\tif radie >= 0 or höjd >= 0:\n",
    "\t\t\t\treturn 3.14*höjd*radie**2\n",
    "\t\t\telse:\n",
    "\t\t\t\tprint(\"talet måste vara större eller lika med noll\")\n",
    "\t\t\t\tbreak\n",
    "\t\texcept ValueError:\n",
    "\t\t\tprint(\"Skriv in ett tal\")\n",
    "\t\t\tbreak\n",
    "vol_cylinder(2, 2)"
   ]
  },
  {
   "cell_type": "code",
   "execution_count": null,
   "metadata": {},
   "outputs": [],
   "source": [
    "import random\n",
    "def krona_or_klave(n):\n",
    "\n",
    "\tcount_krona = 0\n",
    "\thögst_krona = 0\n",
    "\tcount_klave = 0\n",
    "\thögst_klave = 0\n",
    "\tfor _ in range(n):\n",
    "\t\tflip = random.randint(0,1)\n",
    "\t\tif flip == 0:\n",
    "\t\t\tcount_klave= 0\n",
    "\t\t\tcount_krona += 1\n",
    "\t\t\tif högst_krona < count_krona:\n",
    "\t\t\t\thögst_krona = count_krona\t\t\t\t\n",
    "\t\telif flip == 1:\n",
    "\t\t\tcount_krona = 0\n",
    "\t\t\tcount_klave += 1\n",
    "\t\t\tif högst_klave < count_klave:\n",
    "\t\t\t\thögst_klave = count_klave\n",
    "\tif högst_krona > högst_klave:\n",
    "\t\tprint(f'kronan fick mest på rak med hela: {högst_krona}!')\n",
    "\telif högst_krona < högst_klave:\n",
    "\t\tprint(f'Klave fick mest på rak med hela: {högst_klave}!')\n",
    "\telse:\n",
    "\t\tprint(\"det blev exakt lika mellan krona och klave\")\n",
    "krona_or_klave(100000)\n",
    "\n"
   ]
  },
  {
   "cell_type": "code",
   "execution_count": 155,
   "metadata": {},
   "outputs": [
    {
     "name": "stdout",
     "output_type": "stream",
     "text": [
      "o # # # o \n",
      "# o # o # \n",
      "# # o # # \n",
      "# o # o # \n",
      "o # # # o \n"
     ]
    }
   ],
   "source": [
    "def pattern(n):\n",
    "\tfor row in range(n):\n",
    "\t\tfor column in range(n):\n",
    "\t\t\tif row == column or row + column == n-1:\n",
    "\t\t\t\tprint(\"o\",  end=\" \")\n",
    "\t\t\telse:\n",
    "\t\t\t\tprint(\"#\", end=\" \")\n",
    "\t\tprint()\n",
    "pattern(5)\n"
   ]
  }
 ],
 "metadata": {
  "kernelspec": {
   "display_name": "Min_Labb2_kernel",
   "language": "python",
   "name": "labb2_kernel"
  },
  "language_info": {
   "codemirror_mode": {
    "name": "ipython",
    "version": 3
   },
   "file_extension": ".py",
   "mimetype": "text/x-python",
   "name": "python",
   "nbconvert_exporter": "python",
   "pygments_lexer": "ipython3",
   "version": "3.11.6"
  }
 },
 "nbformat": 4,
 "nbformat_minor": 2
}
