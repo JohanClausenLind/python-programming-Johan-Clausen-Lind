{
 "cells": [
  {
   "cell_type": "code",
   "execution_count": null,
   "metadata": {},
   "outputs": [],
   "source": [
    "def pattern(n):\n",
    "    for row in range(n):\n",
    "        for column in range(n):\n",
    "            if column < row or column == (n-1) or row == (0):\n",
    "                print(\"x\", end=\" \")\n",
    "            else:\n",
    "                print(\"o\", end=\" \")\n",
    "        print()\n",
    "pattern(6)"
   ]
  },
  {
   "cell_type": "code",
   "execution_count": null,
   "metadata": {},
   "outputs": [],
   "source": [
    "def skriv_ut_mönster(n):\n",
    "    for rad in range(n):\n",
    "        for kolumn in range(n):\n",
    "            # Check if we're at the border or if row index is >= column index\n",
    "            if rad == 0 or rad == n - 1 or kolumn == 0 or kolumn == n - 1 or rad >= kolumn:\n",
    "                print(\"x\", end=\" \")\n",
    "            else:\n",
    "                print(\"o\", end=\" \")\n",
    "        print()  # New line at the end of each row\n",
    "\n",
    "# Test the function with n = 6\n",
    "skriv_ut_mönster(10)\n"
   ]
  },
  {
   "cell_type": "code",
   "execution_count": null,
   "metadata": {},
   "outputs": [],
   "source": [
    "def min_funktion(n):\n",
    "    for rad in range(n):\n",
    "        for column in range(n):\n",
    "            if (rad + column) % 2 == 0:\n",
    "                print(\"x\", end=\" \") \n",
    "            else:\n",
    "                print(\"o\", end=\" \")\n",
    "        print()\n",
    "min_funktion(9)"
   ]
  },
  {
   "cell_type": "code",
   "execution_count": null,
   "metadata": {},
   "outputs": [],
   "source": [
    "\n",
    "def skriv_ut_mönster(n):\n",
    "    for rad in range(n):\n",
    "        for kolumn in range(n):\n",
    "            # Om summan av rad och kolumn är jämn, skriv ut \"x\", annars \"o\"\n",
    "            if (rad + kolumn) % 2 == 0:\n",
    "                print(\"x\", end=\" \")\n",
    "            else:\n",
    "                print(\"o\", end=\" \")\n",
    "        print()  # Ny rad efter varje rad i mönstret\n",
    "\n",
    "# Testa funktionen med n = 5\n",
    "skriv_ut_mönster(5)\n",
    "\n"
   ]
  },
  {
   "cell_type": "code",
   "execution_count": null,
   "metadata": {},
   "outputs": [],
   "source": [
    "def mönster(n):\n",
    "    for rad in range(n-2):\n",
    "        for column in range(n):\n",
    "            if rad == column:\n",
    "                print(\"x\", end=\" \")\n",
    "            else:\n",
    "                print(\"o\", end=\" \")\n",
    "        print()\n",
    "mönster(5)"
   ]
  }
 ],
 "metadata": {
  "language_info": {
   "name": "python"
  }
 },
 "nbformat": 4,
 "nbformat_minor": 2
}
